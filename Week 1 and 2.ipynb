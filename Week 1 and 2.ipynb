{
 "cells": [
  {
   "cell_type": "markdown",
   "id": "97d73b37",
   "metadata": {},
   "source": [
    "# Introductory Python for Numerical Analysis\n"
   ]
  },
  {
   "cell_type": "code",
   "execution_count": 1,
   "id": "aa3f56ec",
   "metadata": {},
   "outputs": [
    {
     "name": "stdout",
     "output_type": "stream",
     "text": [
      "Numerical Analysis\n"
     ]
    }
   ],
   "source": [
    "# to excute a cell press shift+enter\n",
    "print(\"Numerical Analysis\")"
   ]
  },
  {
   "cell_type": "markdown",
   "id": "71fc54f1",
   "metadata": {},
   "source": [
    "##  1) Variables"
   ]
  },
  {
   "cell_type": "code",
   "execution_count": 3,
   "id": "016d818b",
   "metadata": {},
   "outputs": [
    {
     "name": "stdout",
     "output_type": "stream",
     "text": [
      "1\n",
      "2\n"
     ]
    }
   ],
   "source": [
    "'''\n",
    " Python is case sensitive \n",
    " Rules for the variables(names) in python\n",
    " Variable names are case sensitive: uppercase / lowercase letters\n",
    " Variables names can start with letter or underscore_ \n",
    " but can't start with digit but can contains\n",
    "'''\n",
    "\n",
    "var = 1\n",
    "Var = 2\n",
    "print(var)\n",
    "print(Var)"
   ]
  },
  {
   "cell_type": "code",
   "execution_count": 4,
   "id": "59ed0f86",
   "metadata": {},
   "outputs": [
    {
     "name": "stdout",
     "output_type": "stream",
     "text": [
      "3\n",
      "4\n",
      "5\n"
     ]
    }
   ],
   "source": [
    "# Names can be combination of letters, digits, and underscore\n",
    "var1 = 3\n",
    "var_1 = 4\n",
    "_var1 = 5\n",
    "print(var1)\n",
    "print(var_1)\n",
    "print(_var1)"
   ]
  },
  {
   "cell_type": "code",
   "execution_count": 5,
   "id": "b2b96ffd",
   "metadata": {},
   "outputs": [
    {
     "ename": "SyntaxError",
     "evalue": "invalid decimal literal (4102537848.py, line 2)",
     "output_type": "error",
     "traceback": [
      "\u001b[1;36m  Input \u001b[1;32mIn [5]\u001b[1;36m\u001b[0m\n\u001b[1;33m    1_var = 6\u001b[0m\n\u001b[1;37m     ^\u001b[0m\n\u001b[1;31mSyntaxError\u001b[0m\u001b[1;31m:\u001b[0m invalid decimal literal\n"
     ]
    }
   ],
   "source": [
    "# Names can not start with a number\n",
    "1_var = 6\n",
    "print(1_var)"
   ]
  },
  {
   "cell_type": "code",
   "execution_count": 6,
   "id": "5123ab7c",
   "metadata": {},
   "outputs": [
    {
     "data": {
      "text/plain": [
       "100000"
      ]
     },
     "execution_count": 6,
     "metadata": {},
     "output_type": "execute_result"
    }
   ],
   "source": [
    "# understand the error: _ can be used as a thousand separator for Python >= 3.6\n",
    "100_000"
   ]
  },
  {
   "cell_type": "code",
   "execution_count": 7,
   "id": "fcd2d3e0",
   "metadata": {},
   "outputs": [
    {
     "ename": "SyntaxError",
     "evalue": "invalid syntax (135169702.py, line 2)",
     "output_type": "error",
     "traceback": [
      "\u001b[1;36m  Input \u001b[1;32mIn [7]\u001b[1;36m\u001b[0m\n\u001b[1;33m    if = 4\u001b[0m\n\u001b[1;37m       ^\u001b[0m\n\u001b[1;31mSyntaxError\u001b[0m\u001b[1;31m:\u001b[0m invalid syntax\n"
     ]
    }
   ],
   "source": [
    "# Keywords can not be used as variable names\n",
    "if = 4"
   ]
  },
  {
   "cell_type": "code",
   "execution_count": 8,
   "id": "12d4fcce",
   "metadata": {},
   "outputs": [
    {
     "data": {
      "text/plain": [
       "['__all__',\n",
       " '__builtins__',\n",
       " '__cached__',\n",
       " '__doc__',\n",
       " '__file__',\n",
       " '__loader__',\n",
       " '__name__',\n",
       " '__package__',\n",
       " '__spec__',\n",
       " 'iskeyword',\n",
       " 'issoftkeyword',\n",
       " 'kwlist',\n",
       " 'softkwlist']"
      ]
     },
     "execution_count": 8,
     "metadata": {},
     "output_type": "execute_result"
    }
   ],
   "source": [
    "# ok, how can we see a list of the keywords?\n",
    "import keyword\n",
    "dir(keyword)"
   ]
  },
  {
   "cell_type": "code",
   "execution_count": 10,
   "id": "651a19ab",
   "metadata": {},
   "outputs": [
    {
     "name": "stdout",
     "output_type": "stream",
     "text": [
      "Help on built-in function __contains__:\n",
      "\n",
      "__contains__(...) method of builtins.frozenset instance\n",
      "    x.__contains__(y) <==> y in x.\n",
      "\n"
     ]
    }
   ],
   "source": [
    "help(keyword.iskeyword)"
   ]
  },
  {
   "cell_type": "code",
   "execution_count": 11,
   "id": "399b858f",
   "metadata": {},
   "outputs": [
    {
     "data": {
      "text/plain": [
       "['False',\n",
       " 'None',\n",
       " 'True',\n",
       " '__peg_parser__',\n",
       " 'and',\n",
       " 'as',\n",
       " 'assert',\n",
       " 'async',\n",
       " 'await',\n",
       " 'break',\n",
       " 'class',\n",
       " 'continue',\n",
       " 'def',\n",
       " 'del',\n",
       " 'elif',\n",
       " 'else',\n",
       " 'except',\n",
       " 'finally',\n",
       " 'for',\n",
       " 'from',\n",
       " 'global',\n",
       " 'if',\n",
       " 'import',\n",
       " 'in',\n",
       " 'is',\n",
       " 'lambda',\n",
       " 'nonlocal',\n",
       " 'not',\n",
       " 'or',\n",
       " 'pass',\n",
       " 'raise',\n",
       " 'return',\n",
       " 'try',\n",
       " 'while',\n",
       " 'with',\n",
       " 'yield']"
      ]
     },
     "execution_count": 11,
     "metadata": {},
     "output_type": "execute_result"
    }
   ],
   "source": [
    "keyword.kwlist"
   ]
  },
  {
   "cell_type": "code",
   "execution_count": 12,
   "id": "96248ad4",
   "metadata": {},
   "outputs": [
    {
     "data": {
      "text/plain": [
       "True"
      ]
     },
     "execution_count": 12,
     "metadata": {},
     "output_type": "execute_result"
    }
   ],
   "source": [
    "keyword.iskeyword(\"if\")"
   ]
  },
  {
   "cell_type": "code",
   "execution_count": 13,
   "id": "cf25e58f",
   "metadata": {},
   "outputs": [
    {
     "data": {
      "text/plain": [
       "False"
      ]
     },
     "execution_count": 13,
     "metadata": {},
     "output_type": "execute_result"
    }
   ],
   "source": [
    "keyword.iskeyword(\"bora\")"
   ]
  },
  {
   "cell_type": "code",
   "execution_count": 20,
   "id": "76ea931a",
   "metadata": {},
   "outputs": [
    {
     "data": {
      "text/plain": [
       "(5, 6, 7)"
      ]
     },
     "execution_count": 20,
     "metadata": {},
     "output_type": "execute_result"
    }
   ],
   "source": [
    "# if you are worried about the name, or intentionally want to use keyword as a variable name, then use underscore at the end\n",
    "if_ = 5\n",
    "\n",
    "\n",
    "# or use keywords as a variable name in uppercase\n",
    "If = 6\n",
    "\n",
    "\n",
    "IF =7\n",
    "\n",
    "if_,If,IF"
   ]
  },
  {
   "cell_type": "code",
   "execution_count": 21,
   "id": "9dcffbaf",
   "metadata": {},
   "outputs": [
    {
     "name": "stdout",
     "output_type": "stream",
     "text": [
      "<class 'int'>\n",
      "<class 'float'>\n",
      "<class 'str'>\n",
      "<class 'bool'>\n"
     ]
    }
   ],
   "source": [
    "# Primitive Variable Types\n",
    "a = 5\n",
    "b = 7.34\n",
    "c = \"Bora\"\n",
    "d = True\n",
    "print(type(a))\n",
    "print(type(b))\n",
    "print(type(c))\n",
    "print(type(d))"
   ]
  },
  {
   "cell_type": "code",
   "execution_count": 22,
   "id": "a9fd9619",
   "metadata": {},
   "outputs": [
    {
     "name": "stdout",
     "output_type": "stream",
     "text": [
      "5 7.34 Bora True\n"
     ]
    }
   ],
   "source": [
    "# Multiple assignments\n",
    "v1, v2, v3, v4 = 5, 7.34, \"Bora\", True\n",
    "print(v1, v2, v3, v4)"
   ]
  },
  {
   "cell_type": "code",
   "execution_count": 41,
   "id": "a5561fc9",
   "metadata": {},
   "outputs": [
    {
     "name": "stdout",
     "output_type": "stream",
     "text": [
      "7.34 5\n"
     ]
    }
   ],
   "source": [
    "# Swapping the variables\n",
    "'''\n",
    "swapping variables in another way\n",
    "temp = v1\n",
    "v1 = v2\n",
    "v2 = temp\n",
    "v1,v2\n",
    "\n",
    "'''\n",
    "v1, v2 = v2, v1\n",
    "print(v1, v2)\n"
   ]
  },
  {
   "cell_type": "code",
   "execution_count": 42,
   "id": "2592a5f5",
   "metadata": {},
   "outputs": [
    {
     "data": {
      "text/plain": [
       "(5, 7.34)"
      ]
     },
     "execution_count": 42,
     "metadata": {},
     "output_type": "execute_result"
    }
   ],
   "source": [
    "# swapping variables in another way\n",
    "temp = v1\n",
    "v1 = v2\n",
    "v2 = temp\n",
    "v1,v2\n"
   ]
  },
  {
   "cell_type": "code",
   "execution_count": 56,
   "id": "4b80f762",
   "metadata": {},
   "outputs": [
    {
     "name": "stdout",
     "output_type": "stream",
     "text": [
      "v1 =  5  | v2 =  7.34  | v3 =  Bora  | v4 =       7.340000\n",
      "v1 = 5 | v2 = 7.340000e+00 | v3 = Bora | v4 =      7.340000\n",
      "v1 = 5 | v2 = 7.34 | v3 = Bora | v4 =      7.340000\n",
      "v1 = 5 | v2 = 7.34 | v3 = Bora | v4 =      7.340000\n",
      "00005 7.3400    7.340000     7.3e+00\n"
     ]
    }
   ],
   "source": [
    "# Formatted Output\n",
    "print(\"v1 = \", v1, \" | v2 = \", v2, \" | v3 = \", v3, \" | v4 = \", v4)\n",
    "print(\"v1 = %d | v2 = %e | v3 = %s | v4 = %s\" % (v1, v2, v3, v4))\n",
    "print(\"v1 = {0} | v2 = {1} | v3 = {2} | v4 = {3}\".format(v1, v2, v3, v4))\n",
    "print(f\"v1 = {v1} | v2 = {v2} | v3 = {v3} | v4 = {v4}\")\n",
    "print(f\"{v1:05d} {v2:.4f} {v2:12.6f} {v2:12.1e}\")\n",
    "\n",
    "# 'd' (digit) for integers\n",
    "# 'f' for floating-point numbers\n",
    "# 'b' for binary numbers\n",
    "# 'o' for octal numbers\n",
    "# 'x' for hexadecimal numbers\n",
    "# 's' for string\n",
    "# 'e' for floating-point in an exponent format"
   ]
  },
  {
   "cell_type": "code",
   "execution_count": 58,
   "id": "a0745c58",
   "metadata": {},
   "outputs": [
    {
     "name": "stdout",
     "output_type": "stream",
     "text": [
      "12.0\n",
      "4\n",
      "False\n",
      "7.62\n"
     ]
    }
   ],
   "source": [
    "# Typecasting\n",
    "print(float(12))\n",
    "print(int(4.6))\n",
    "print(bool(0))\n",
    "print(str(7.62))"
   ]
  },
  {
   "cell_type": "code",
   "execution_count": 59,
   "id": "0f17fa08",
   "metadata": {},
   "outputs": [
    {
     "name": "stdout",
     "output_type": "stream",
     "text": [
      "N\n",
      "n\n",
      "18\n",
      "s\n",
      "s\n",
      "s\n",
      "N\n",
      "Numerical\n",
      "Numerical\n",
      "Analysis\n",
      "Numerical Analysis\n",
      "Nec\n",
      "laciremu\n",
      "sisylanA laciremuN\n"
     ]
    }
   ],
   "source": [
    "# Strings are sequences. Sequences are an object type in Python that allows user to store multiple values.\n",
    "# If they are sequences then we can use indexing and slicing\n",
    "name = \"Numerical Analysis\"\n",
    "print(name[0])\n",
    "print(name[11])\n",
    "print(len(name))\n",
    "print(name[len(name)-1])\n",
    "print(name[-1])\n",
    "print(name[-3])\n",
    "print(name[-len(name)])\n",
    "print(name[0:9])\n",
    "print(name[:9])\n",
    "print(name[10:])\n",
    "print(name[:])\n",
    "print(name[0:9:3])\n",
    "print(name[8:0:-1])\n",
    "print(name[::-1])"
   ]
  },
  {
   "cell_type": "code",
   "execution_count": 60,
   "id": "8cc405bc",
   "metadata": {},
   "outputs": [
    {
     "name": "stdout",
     "output_type": "stream",
     "text": [
      "Numerical Analysis\n",
      "merical \n",
      "mrcl\n",
      "Alcr\n",
      "Numerical Analysis"
     ]
    }
   ],
   "source": [
    "# Loops and Range\n",
    "for i in range(len(name)):\n",
    "    print(name[i], end='') # help(print)\n",
    "print('')\n",
    "for i in range(2, 10):\n",
    "    print(name[i], end='')\n",
    "print('')\n",
    "for i in range(2, 10, 2):\n",
    "    print(name[i], end='')\n",
    "print('')\n",
    "for i in range(10, 2, -2):\n",
    "    print(name[i], end='')\n",
    "print('')\n",
    "for c in name:\n",
    "    print(c, end='')"
   ]
  },
  {
   "cell_type": "markdown",
   "id": "d96c200b",
   "metadata": {},
   "source": [
    "## 2) Sequences in Python\n",
    "### Lists\n",
    "Ordered and mutable sequence of values indexed by integer numbers."
   ]
  },
  {
   "cell_type": "code",
   "execution_count": 1,
   "id": "76afa039",
   "metadata": {},
   "outputs": [
    {
     "name": "stdout",
     "output_type": "stream",
     "text": [
      "initialize: [] <class 'list'>\n",
      "append: [7, 9, 3]\n",
      "access: 3\n",
      "insert: [7, 5, 9, 3]\n",
      "update: [7, 5, 4, 3]\n",
      "remove: [7, 4, 3]\n"
     ]
    }
   ],
   "source": [
    "# initialize\n",
    "a_list = []\n",
    "print(f\"initialize: {a_list} {type(a_list)}\")\n",
    "# append (adding an element to the end)\n",
    "a_list.append(7)\n",
    "a_list.append(9)\n",
    "a_list.append(3)\n",
    "print(f\"append: {a_list}\")\n",
    "# access an element\n",
    "print(f\"access: {a_list[2]}\")\n",
    "# insert an element with an index\n",
    "a_list.insert(1, 5)\n",
    "print(f\"insert: {a_list}\")\n",
    "# update an element\n",
    "a_list[2] = 4\n",
    "print(f\"update: {a_list}\")\n",
    "# removing an element\n",
    "del a_list[1]\n",
    "print(f\"remove: {a_list}\")"
   ]
  },
  {
   "cell_type": "code",
   "execution_count": 2,
   "id": "af366b43",
   "metadata": {},
   "outputs": [
    {
     "data": {
      "text/plain": [
       "['__add__',\n",
       " '__class__',\n",
       " '__class_getitem__',\n",
       " '__contains__',\n",
       " '__delattr__',\n",
       " '__delitem__',\n",
       " '__dir__',\n",
       " '__doc__',\n",
       " '__eq__',\n",
       " '__format__',\n",
       " '__ge__',\n",
       " '__getattribute__',\n",
       " '__getitem__',\n",
       " '__gt__',\n",
       " '__hash__',\n",
       " '__iadd__',\n",
       " '__imul__',\n",
       " '__init__',\n",
       " '__init_subclass__',\n",
       " '__iter__',\n",
       " '__le__',\n",
       " '__len__',\n",
       " '__lt__',\n",
       " '__mul__',\n",
       " '__ne__',\n",
       " '__new__',\n",
       " '__reduce__',\n",
       " '__reduce_ex__',\n",
       " '__repr__',\n",
       " '__reversed__',\n",
       " '__rmul__',\n",
       " '__setattr__',\n",
       " '__setitem__',\n",
       " '__sizeof__',\n",
       " '__str__',\n",
       " '__subclasshook__',\n",
       " 'append',\n",
       " 'clear',\n",
       " 'copy',\n",
       " 'count',\n",
       " 'extend',\n",
       " 'index',\n",
       " 'insert',\n",
       " 'pop',\n",
       " 'remove',\n",
       " 'reverse',\n",
       " 'sort']"
      ]
     },
     "execution_count": 2,
     "metadata": {},
     "output_type": "execute_result"
    }
   ],
   "source": [
    "dir(a_list)"
   ]
  },
  {
   "cell_type": "code",
   "execution_count": 3,
   "id": "7baa2dd0",
   "metadata": {},
   "outputs": [
    {
     "name": "stdout",
     "output_type": "stream",
     "text": [
      "Help on built-in function sort:\n",
      "\n",
      "sort(*, key=None, reverse=False) method of builtins.list instance\n",
      "    Sort the list in ascending order and return None.\n",
      "    \n",
      "    The sort is in-place (i.e. the list itself is modified) and stable (i.e. the\n",
      "    order of two equal elements is maintained).\n",
      "    \n",
      "    If a key function is given, apply it once to each list item and sort them,\n",
      "    ascending or descending, according to their function values.\n",
      "    \n",
      "    The reverse flag can be set to sort in descending order.\n",
      "\n"
     ]
    }
   ],
   "source": [
    "help(a_list.sort)"
   ]
  },
  {
   "cell_type": "code",
   "execution_count": 6,
   "id": "c2bdc2b3",
   "metadata": {},
   "outputs": [
    {
     "name": "stdout",
     "output_type": "stream",
     "text": [
      "[3, 4, 7]\n"
     ]
    }
   ],
   "source": [
    "a_list.sort()\n",
    "print(a_list)"
   ]
  },
  {
   "cell_type": "markdown",
   "id": "fd6e174b",
   "metadata": {},
   "source": [
    "## Tuples\n",
    "Ordered and immutable sequence of values indexed by integer numbers."
   ]
  },
  {
   "cell_type": "code",
   "execution_count": 8,
   "id": "d963e037",
   "metadata": {},
   "outputs": [
    {
     "name": "stdout",
     "output_type": "stream",
     "text": [
      "initialize: (3, 5, 7, 9) <class 'tuple'>\n",
      "access: 7\n"
     ]
    },
    {
     "ename": "NameError",
     "evalue": "name 'a_tuple' is not defined",
     "output_type": "error",
     "traceback": [
      "\u001b[1;31m---------------------------------------------------------------------------\u001b[0m",
      "\u001b[1;31mNameError\u001b[0m                                 Traceback (most recent call last)",
      "\u001b[1;32m~\\AppData\\Local\\Temp/ipykernel_30536/1246797097.py\u001b[0m in \u001b[0;36m<module>\u001b[1;34m\u001b[0m\n\u001b[0;32m      7\u001b[0m \u001b[1;31m# removing the whole tuple\u001b[0m\u001b[1;33m\u001b[0m\u001b[1;33m\u001b[0m\u001b[0m\n\u001b[0;32m      8\u001b[0m \u001b[1;32mdel\u001b[0m \u001b[0ma_tuple\u001b[0m\u001b[1;33m\u001b[0m\u001b[1;33m\u001b[0m\u001b[0m\n\u001b[1;32m----> 9\u001b[1;33m \u001b[0mprint\u001b[0m\u001b[1;33m(\u001b[0m\u001b[0ma_tuple\u001b[0m\u001b[1;33m)\u001b[0m\u001b[1;33m\u001b[0m\u001b[1;33m\u001b[0m\u001b[0m\n\u001b[0m",
      "\u001b[1;31mNameError\u001b[0m: name 'a_tuple' is not defined"
     ]
    }
   ],
   "source": [
    "# initialize\n",
    "a_tuple = (3, 5, 7, 9)\n",
    "print(f\"initialize: {a_tuple} {type(a_tuple)}\")\n",
    "# immutable: no append, no update, no remove\n",
    "# access an element\n",
    "print(f\"access: {a_tuple[2]}\")\n",
    "# removing the whole tuple\n",
    "del a_tuple\n",
    "print(a_tuple)"
   ]
  },
  {
   "cell_type": "markdown",
   "id": "fbf1e9d4",
   "metadata": {},
   "source": [
    "## Sets\n",
    "Unordered and mutable collection of values with no duplicate element. They support mathematical operations like union, intersection, difference, and symmetric difference."
   ]
  },
  {
   "cell_type": "code",
   "execution_count": 13,
   "id": "f22dae10",
   "metadata": {},
   "outputs": [
    {
     "name": "stdout",
     "output_type": "stream",
     "text": [
      "initialize: {9, 3, 5, 7} <class 'set'>\n",
      "add: {1, 3, 5, 7, 9}\n",
      "remove: {1, 3, 5}\n",
      "fill again: {3, 5, 7}\n",
      "empty set: set()\n",
      "union of two sets: {1, 2, 3, 4, 5, 6, 7, 8}\n",
      "intersection of two sets: {1, 2}\n",
      "difference of two sets: {3, 5, 7} {8, 4, 6}\n",
      "symmetrical difference of two sets: {3, 4, 5, 6, 7, 8}\n"
     ]
    }
   ],
   "source": [
    "# initialize\n",
    "a_set = {3, 5, 5, 7, 7, 7, 9, 9, 9, 3, 5, 7, 9}\n",
    "print(f\"initialize: {a_set} {type(a_set)}\")\n",
    "# add\n",
    "a_set.add(7)\n",
    "a_set.add(9)\n",
    "a_set.add(1)\n",
    "print(f\"add: {a_set}\")\n",
    "# unordered: no access, no insert, no update\n",
    "# removing an element (with the value)\n",
    "a_set.remove(9)\n",
    "a_set.discard(8) # a_set.remove(8) raises a key error\n",
    "a_set.discard(7)\n",
    "print(f\"remove: {a_set}\")\n",
    "# delete completely\n",
    "del a_set\n",
    "# remove all elements rather than deleting the set\n",
    "a_set = set([3, 5, 7])\n",
    "print(f\"fill again: {a_set}\")\n",
    "a_set.clear()\n",
    "print(f\"empty set: {a_set}\")\n",
    "# union of two sets\n",
    "a_set_1 = {1, 2, 3, 5, 7}\n",
    "a_set_2 = {1, 2, 4, 6, 8}\n",
    "print(f\"union of two sets: {a_set_1 | a_set_2}\")\n",
    "# intersection of two sets\n",
    "print(f\"intersection of two sets: {a_set_1 & a_set_2}\")\n",
    "# difference of two sets\n",
    "print(f\"difference of two sets: {a_set_1 - a_set_2} {a_set_2 - a_set_1}\")\n",
    "# symmetrical difference of two sets\n",
    "print(f\"symmetrical difference of two sets: {a_set_1 ^ a_set_2}\")"
   ]
  },
  {
   "cell_type": "markdown",
   "id": "7456a49c",
   "metadata": {},
   "source": [
    "## Dictionaries\n",
    "Unordered and mutable set of key-value pairs."
   ]
  },
  {
   "cell_type": "code",
   "execution_count": 14,
   "id": "a6514c1f",
   "metadata": {},
   "outputs": [
    {
     "name": "stdout",
     "output_type": "stream",
     "text": [
      "initialize: {} <class 'dict'>\n",
      "add: {'first_name': 'Bora', 'last_name': 'Canbula', 'age': 37}\n",
      "access: Bora\n",
      "keys: dict_keys(['first_name', 'last_name', 'age'])\n",
      "keys: dict_values(['Bora', 'Canbula', 37])\n",
      "update: 38\n",
      "remove: {'first_name': 'Bora', 'age': 38}\n",
      "clear: {}\n"
     ]
    }
   ],
   "source": [
    "\n",
    "# initialize\n",
    "a_dict = {}\n",
    "print(f\"initialize: {a_dict} {type(a_dict)}\")\n",
    "# add an element with a key\n",
    "a_dict[\"first_name\"] = \"Bora\"\n",
    "a_dict[\"last_name\"] = \"Canbula\"\n",
    "a_dict[\"age\"] = 37\n",
    "print(f\"add: {a_dict}\")\n",
    "# access an element\n",
    "print(f\"access: {a_dict['first_name']}\")\n",
    "# list the keys or values\n",
    "print(f\"keys: {a_dict.keys()}\")\n",
    "print(f\"keys: {a_dict.values()}\")\n",
    "# update an element\n",
    "a_dict[\"age\"] = 38\n",
    "print(f\"update: {a_dict['age']}\")\n",
    "# removing an element\n",
    "del a_dict[\"last_name\"]\n",
    "print(f\"remove: {a_dict}\")\n",
    "# removing all elements\n",
    "a_dict.clear()\n",
    "print(f\"clear: {a_dict}\")"
   ]
  },
  {
   "cell_type": "code",
   "execution_count": null,
   "id": "ae130fa1",
   "metadata": {},
   "outputs": [],
   "source": []
  }
 ],
 "metadata": {
  "kernelspec": {
   "display_name": "Python 3.10.2 64-bit",
   "language": "python",
   "name": "python3"
  },
  "language_info": {
   "codemirror_mode": {
    "name": "ipython",
    "version": 3
   },
   "file_extension": ".py",
   "mimetype": "text/x-python",
   "name": "python",
   "nbconvert_exporter": "python",
   "pygments_lexer": "ipython3",
   "version": "3.10.2"
  },
  "vscode": {
   "interpreter": {
    "hash": "ec86e37d8c4a33b52b8c61c4f62bc9e1e3a45736683b010ab5b720b527f5b582"
   }
  }
 },
 "nbformat": 4,
 "nbformat_minor": 5
}
